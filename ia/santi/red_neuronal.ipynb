{
 "cells": [
  {
   "cell_type": "code",
   "execution_count": 7,
   "metadata": {},
   "outputs": [
    {
     "name": "stdout",
     "output_type": "stream",
     "text": [
      "[[1 0 0 0 0 0 0 0 0]\n",
      " [0 0 0 0 0 0 0 0 0]\n",
      " [0 0 0 0 0 0 0 0 0]]\n"
     ]
    }
   ],
   "source": [
    "import pandas as pd\n",
    "\n",
    "# Cargar los datos del archivo CSV\n",
    "df = pd.read_csv('datos_entrenamiento.csv')\n",
    "\n",
    "# Separar las columnas de síntomas (entradas) y trastornos (salidas)\n",
    "X = df.iloc[:, :-9].values  # Todas las columnas menos las últimas 9 (las enfermedades)\n",
    "y = df.iloc[:, -9:].values   # Las últimas 9 columnas (las enfermedades)\n",
    "print(y)"
   ]
  },
  {
   "cell_type": "code",
   "execution_count": null,
   "metadata": {},
   "outputs": [],
   "source": [
    "import tensorflow as tf\n",
    "from tensorflow.keras.models import Sequential\n",
    "from tensorflow.keras.layers import Dense\n",
    "\n",
    "# Definir la arquitectura de la red neuronal\n",
    "model = Sequential()\n",
    "\n",
    "# Capa de entrada con 43 neuronas (una por cada síntoma) y una capa oculta con 64 neuronas\n",
    "model.add(Dense(64, input_dim=43, activation='relu'))\n",
    "\n",
    "# Segunda capa oculta con 64 neuronas\n",
    "model.add(Dense(64, activation='relu'))\n",
    "\n",
    "# Capa de salida con 9 neuronas (una por cada trastorno) y activación sigmoid\n",
    "model.add(Dense(9, activation='sigmoid'))\n",
    "\n",
    "# Compilar el modelo\n",
    "model.compile(loss='binary_crossentropy', optimizer='adam', metrics=['accuracy'])\n",
    "\n",
    "# Entrenar el modelo\n",
    "model.fit(X, y, epochs=100, batch_size=32)\n"
   ]
  },
  {
   "cell_type": "code",
   "execution_count": null,
   "metadata": {},
   "outputs": [],
   "source": []
  }
 ],
 "metadata": {
  "kernelspec": {
   "display_name": "Python 3",
   "language": "python",
   "name": "python3"
  },
  "language_info": {
   "codemirror_mode": {
    "name": "ipython",
    "version": 3
   },
   "file_extension": ".py",
   "mimetype": "text/x-python",
   "name": "python",
   "nbconvert_exporter": "python",
   "pygments_lexer": "ipython3",
   "version": "3.12.2"
  }
 },
 "nbformat": 4,
 "nbformat_minor": 2
}
